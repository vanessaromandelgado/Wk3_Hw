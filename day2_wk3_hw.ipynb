{
 "cells": [
  {
   "cell_type": "code",
   "execution_count": null,
   "source": [
    "\"\"\"\n",
    "Exercise 1 - Turn the shopping cart program from yesterday into an object-oriented program\n",
    "\n",
    " Step 1 is to set up the ShoppingCart Class, \n",
    "    - index: \"handles\"\n",
    "    - quantity: integer or string\n",
    "    - item name: list of items\n",
    "\n",
    "    1. Parameters: \n",
    "    setting up class, get__init__ function, instance of shoppig cart\n",
    "    class method to show items, quantity, add items, change or increase quantity, getting user input to add to ShoppingCart\n",
    "    2. Processes: \n",
    "    calling instance and applying class attrinutes by running methonds on user input then through a while loop function \n",
    "    3. Output: \n",
    "    user input response\n",
    "\n",
    "Creating Instance of SHoppingCart \n",
    "\n",
    "1. input/ parameters:\n",
    "setting up variable instance of class: Co-opCafe\n",
    "2. process:\n",
    "creating function to run variable instance through class attributes, providing equal parameters, and applying class methods\n",
    "3. output:\n",
    "user input response in list\n",
    "\n",
    "    #variable to pass through class attributes\n",
    "    #empty list for output\n",
    "    #  #While True fucntion loop and if statement to run ShopppingCart methods\n",
    "\n",
    "\"\"\""
   ],
   "outputs": [],
   "metadata": {}
  },
  {
   "cell_type": "code",
   "execution_count": 20,
   "source": [
    "class ShoppingCart ():\n",
    "    def __init__(self, item_number, item_quantity, item_names):\n",
    "        self.item_number = item_number\n",
    "        self.item_quantity = item_quantity\n",
    "        self.item_names = item_names\n",
    "        \n",
    "    #method to show item_names through for loop\n",
    "    def showShoppingCart(self):\n",
    "        print('Your items include:')\n",
    "        for item in self.item_names:\n",
    "            print(item)\n",
    "        \n",
    "    #method to show item_quantities\n",
    "    def showQuantity(self):\n",
    "        print(f'Your item quantity is:{item_quantity}')\n",
    "\n",
    "    #method to add items to items \n",
    "    def addtoShoppingCart(self):\n",
    "        products = input('What would you like to add ')\n",
    "        self.item_names.append(products)\n",
    "\n",
    "    #method to change quanitiy of items in shopping cart\n",
    "    def changeQuantity(self, items_quantity):\n",
    "        self.items_quantity = items_quantity\n",
    "\n",
    "    def increaseQuantity(self, changed_qunatity = 2):\n",
    "        if self.items_quantity == isinstance(self.quantity, str):\n",
    "            print('Can not add items')\n",
    "        else:\n",
    "            self.items_quantity += changed_qunatity    \n",
    "\n",
    "\n",
    "CoopCafe = ShoppingCart(7,1,[])\n",
    "\n",
    "\n",
    "def run ():\n",
    "    while True:\n",
    "        response = input ('Please input desired option: add, show, or quit')\n",
    "\n",
    "        if response.lower() == 'quit':\n",
    "            CoopCafe.showShoppingCart()\n",
    "            print('Thank you for shopping with The Co-op Cafe')\n",
    "           \n",
    "        elif response.lower() == 'add':\n",
    "            CoopCafe.addtoShoppingCart()\n",
    "           \n",
    "        elif response.lower() == 'show':\n",
    "            CoopCafe.showShoppingCart()\n",
    "\n",
    "run()"
   ],
   "outputs": [
    {
     "output_type": "stream",
     "name": "stdout",
     "text": [
      "Your items include:\n",
      "carrot\n"
     ]
    },
    {
     "output_type": "error",
     "ename": "NameError",
     "evalue": "name 'pritn' is not defined",
     "traceback": [
      "\u001b[0;31m---------------------------------------------------------------------------\u001b[0m",
      "\u001b[0;31mNameError\u001b[0m                                 Traceback (most recent call last)",
      "\u001b[0;32m/var/folders/_r/klhtk79s4fbfnlkxzxd6v26m0000gp/T/ipykernel_5459/4260703439.py\u001b[0m in \u001b[0;36m<module>\u001b[0;34m\u001b[0m\n\u001b[1;32m     48\u001b[0m             \u001b[0mCoopCafe\u001b[0m\u001b[0;34m.\u001b[0m\u001b[0mshowShoppingCart\u001b[0m\u001b[0;34m(\u001b[0m\u001b[0;34m)\u001b[0m\u001b[0;34m\u001b[0m\u001b[0;34m\u001b[0m\u001b[0m\n\u001b[1;32m     49\u001b[0m \u001b[0;34m\u001b[0m\u001b[0m\n\u001b[0;32m---> 50\u001b[0;31m \u001b[0mrun\u001b[0m\u001b[0;34m(\u001b[0m\u001b[0;34m)\u001b[0m\u001b[0;34m\u001b[0m\u001b[0;34m\u001b[0m\u001b[0m\n\u001b[0m",
      "\u001b[0;32m/var/folders/_r/klhtk79s4fbfnlkxzxd6v26m0000gp/T/ipykernel_5459/4260703439.py\u001b[0m in \u001b[0;36mrun\u001b[0;34m()\u001b[0m\n\u001b[1;32m     40\u001b[0m         \u001b[0;32mif\u001b[0m \u001b[0mresponse\u001b[0m\u001b[0;34m.\u001b[0m\u001b[0mlower\u001b[0m\u001b[0;34m(\u001b[0m\u001b[0;34m)\u001b[0m \u001b[0;34m==\u001b[0m \u001b[0;34m'quit'\u001b[0m\u001b[0;34m:\u001b[0m\u001b[0;34m\u001b[0m\u001b[0;34m\u001b[0m\u001b[0m\n\u001b[1;32m     41\u001b[0m             \u001b[0mCoopCafe\u001b[0m\u001b[0;34m.\u001b[0m\u001b[0mshowShoppingCart\u001b[0m\u001b[0;34m(\u001b[0m\u001b[0;34m)\u001b[0m\u001b[0;34m\u001b[0m\u001b[0;34m\u001b[0m\u001b[0m\n\u001b[0;32m---> 42\u001b[0;31m             \u001b[0mpritn\u001b[0m\u001b[0;34m(\u001b[0m\u001b[0;34m'Thank you for shopping with The Co-op Cafe'\u001b[0m\u001b[0;34m)\u001b[0m\u001b[0;34m\u001b[0m\u001b[0;34m\u001b[0m\u001b[0m\n\u001b[0m\u001b[1;32m     43\u001b[0m \u001b[0;34m\u001b[0m\u001b[0m\n\u001b[1;32m     44\u001b[0m         \u001b[0;32melif\u001b[0m \u001b[0mresponse\u001b[0m\u001b[0;34m.\u001b[0m\u001b[0mlower\u001b[0m\u001b[0;34m(\u001b[0m\u001b[0;34m)\u001b[0m \u001b[0;34m==\u001b[0m \u001b[0;34m'add'\u001b[0m\u001b[0;34m:\u001b[0m\u001b[0;34m\u001b[0m\u001b[0;34m\u001b[0m\u001b[0m\n",
      "\u001b[0;31mNameError\u001b[0m: name 'pritn' is not defined"
     ]
    }
   ],
   "metadata": {}
  },
  {
   "cell_type": "code",
   "execution_count": null,
   "source": [
    "\"\"\"\n",
    "Exercise 2 - Write a Python class which has two methods:\n",
    "get_String and print_String\n",
    "- get_String accept a string from the user\n",
    "- print_String print the string in upper case\n",
    "\n",
    "1. input: \n",
    "input function\n",
    "2. process:\n",
    ".uppper transformation\n",
    "3. output:\n",
    "formated string\n",
    "\"\"\""
   ],
   "outputs": [],
   "metadata": {}
  },
  {
   "cell_type": "code",
   "execution_count": 25,
   "source": [
    "class Get_String():\n",
    "    str = input('Please input data to be transformed')\n",
    "    print(str)\n",
    "class Print_String():\n",
    "    str.lower = newstr\n",
    "    print(newstr)\n",
    "\n",
    "def showTransformation(self):\n",
    "    self.Get_String.append(answer)\n",
    "    self.Print_String(answer)"
   ],
   "outputs": [
    {
     "output_type": "stream",
     "name": "stdout",
     "text": [
      "ABC\n"
     ]
    },
    {
     "output_type": "error",
     "ename": "NameError",
     "evalue": "name 'newstr' is not defined",
     "traceback": [
      "\u001b[0;31m---------------------------------------------------------------------------\u001b[0m",
      "\u001b[0;31mNameError\u001b[0m                                 Traceback (most recent call last)",
      "\u001b[0;32m/var/folders/_r/klhtk79s4fbfnlkxzxd6v26m0000gp/T/ipykernel_5459/38464429.py\u001b[0m in \u001b[0;36m<module>\u001b[0;34m\u001b[0m\n\u001b[1;32m      2\u001b[0m     \u001b[0mstr\u001b[0m \u001b[0;34m=\u001b[0m \u001b[0minput\u001b[0m\u001b[0;34m(\u001b[0m\u001b[0;34m'Please input data to be transformed'\u001b[0m\u001b[0;34m)\u001b[0m\u001b[0;34m\u001b[0m\u001b[0;34m\u001b[0m\u001b[0m\n\u001b[1;32m      3\u001b[0m     \u001b[0mprint\u001b[0m\u001b[0;34m(\u001b[0m\u001b[0mstr\u001b[0m\u001b[0;34m)\u001b[0m\u001b[0;34m\u001b[0m\u001b[0;34m\u001b[0m\u001b[0m\n\u001b[0;32m----> 4\u001b[0;31m \u001b[0;32mclass\u001b[0m \u001b[0mPrint_String\u001b[0m\u001b[0;34m(\u001b[0m\u001b[0;34m)\u001b[0m\u001b[0;34m:\u001b[0m\u001b[0;34m\u001b[0m\u001b[0;34m\u001b[0m\u001b[0m\n\u001b[0m\u001b[1;32m      5\u001b[0m     \u001b[0mstr\u001b[0m\u001b[0;34m.\u001b[0m\u001b[0mlower\u001b[0m \u001b[0;34m=\u001b[0m \u001b[0mnewstr\u001b[0m\u001b[0;34m\u001b[0m\u001b[0;34m\u001b[0m\u001b[0m\n\u001b[1;32m      6\u001b[0m     \u001b[0mprint\u001b[0m\u001b[0;34m(\u001b[0m\u001b[0mnewstr\u001b[0m\u001b[0;34m)\u001b[0m\u001b[0;34m\u001b[0m\u001b[0;34m\u001b[0m\u001b[0m\n",
      "\u001b[0;32m/var/folders/_r/klhtk79s4fbfnlkxzxd6v26m0000gp/T/ipykernel_5459/38464429.py\u001b[0m in \u001b[0;36mPrint_String\u001b[0;34m()\u001b[0m\n\u001b[1;32m      3\u001b[0m     \u001b[0mprint\u001b[0m\u001b[0;34m(\u001b[0m\u001b[0mstr\u001b[0m\u001b[0;34m)\u001b[0m\u001b[0;34m\u001b[0m\u001b[0;34m\u001b[0m\u001b[0m\n\u001b[1;32m      4\u001b[0m \u001b[0;32mclass\u001b[0m \u001b[0mPrint_String\u001b[0m\u001b[0;34m(\u001b[0m\u001b[0;34m)\u001b[0m\u001b[0;34m:\u001b[0m\u001b[0;34m\u001b[0m\u001b[0;34m\u001b[0m\u001b[0m\n\u001b[0;32m----> 5\u001b[0;31m     \u001b[0mstr\u001b[0m\u001b[0;34m.\u001b[0m\u001b[0mlower\u001b[0m \u001b[0;34m=\u001b[0m \u001b[0mnewstr\u001b[0m\u001b[0;34m\u001b[0m\u001b[0;34m\u001b[0m\u001b[0m\n\u001b[0m\u001b[1;32m      6\u001b[0m     \u001b[0mprint\u001b[0m\u001b[0;34m(\u001b[0m\u001b[0mnewstr\u001b[0m\u001b[0;34m)\u001b[0m\u001b[0;34m\u001b[0m\u001b[0;34m\u001b[0m\u001b[0m\n\u001b[1;32m      7\u001b[0m \u001b[0;34m\u001b[0m\u001b[0m\n",
      "\u001b[0;31mNameError\u001b[0m: name 'newstr' is not defined"
     ]
    }
   ],
   "metadata": {}
  }
 ],
 "metadata": {
  "orig_nbformat": 4,
  "language_info": {
   "name": "python",
   "version": "3.9.7",
   "mimetype": "text/x-python",
   "codemirror_mode": {
    "name": "ipython",
    "version": 3
   },
   "pygments_lexer": "ipython3",
   "nbconvert_exporter": "python",
   "file_extension": ".py"
  },
  "kernelspec": {
   "name": "python3",
   "display_name": "Python 3.9.7 64-bit"
  },
  "interpreter": {
   "hash": "aee8b7b246df8f9039afb4144a1f6fd8d2ca17a180786b69acc140d282b71a49"
  }
 },
 "nbformat": 4,
 "nbformat_minor": 2
}